{
 "cells": [
  {
   "cell_type": "markdown",
   "metadata": {},
   "source": [
    "# Libraries Installation"
   ]
  },
  {
   "cell_type": "code",
   "execution_count": 31,
   "metadata": {},
   "outputs": [
    {
     "name": "stdout",
     "output_type": "stream",
     "text": [
      "\n",
      "\u001b[1m[\u001b[0m\u001b[34;49mnotice\u001b[0m\u001b[1;39;49m]\u001b[0m\u001b[39;49m A new release of pip is available: \u001b[0m\u001b[31;49m23.0.1\u001b[0m\u001b[39;49m -> \u001b[0m\u001b[32;49m23.2.1\u001b[0m\n",
      "\u001b[1m[\u001b[0m\u001b[34;49mnotice\u001b[0m\u001b[1;39;49m]\u001b[0m\u001b[39;49m To update, run: \u001b[0m\u001b[32;49mpip install --upgrade pip\u001b[0m\n",
      "\n",
      "\u001b[1m[\u001b[0m\u001b[34;49mnotice\u001b[0m\u001b[1;39;49m]\u001b[0m\u001b[39;49m A new release of pip is available: \u001b[0m\u001b[31;49m23.0.1\u001b[0m\u001b[39;49m -> \u001b[0m\u001b[32;49m23.2.1\u001b[0m\n",
      "\u001b[1m[\u001b[0m\u001b[34;49mnotice\u001b[0m\u001b[1;39;49m]\u001b[0m\u001b[39;49m To update, run: \u001b[0m\u001b[32;49mpip install --upgrade pip\u001b[0m\n",
      "\n",
      "\u001b[1m[\u001b[0m\u001b[34;49mnotice\u001b[0m\u001b[1;39;49m]\u001b[0m\u001b[39;49m A new release of pip is available: \u001b[0m\u001b[31;49m23.0.1\u001b[0m\u001b[39;49m -> \u001b[0m\u001b[32;49m23.2.1\u001b[0m\n",
      "\u001b[1m[\u001b[0m\u001b[34;49mnotice\u001b[0m\u001b[1;39;49m]\u001b[0m\u001b[39;49m To update, run: \u001b[0m\u001b[32;49mpip install --upgrade pip\u001b[0m\n",
      "\n",
      "\u001b[1m[\u001b[0m\u001b[34;49mnotice\u001b[0m\u001b[1;39;49m]\u001b[0m\u001b[39;49m A new release of pip is available: \u001b[0m\u001b[31;49m23.0.1\u001b[0m\u001b[39;49m -> \u001b[0m\u001b[32;49m23.2.1\u001b[0m\n",
      "\u001b[1m[\u001b[0m\u001b[34;49mnotice\u001b[0m\u001b[1;39;49m]\u001b[0m\u001b[39;49m To update, run: \u001b[0m\u001b[32;49mpip install --upgrade pip\u001b[0m\n"
     ]
    }
   ],
   "source": [
    "!pip install yfinance -q\n",
    "!pip install pandas -q\n",
    "!pip install numpy -q\n",
    "!pip install matplotlib -q"
   ]
  },
  {
   "cell_type": "code",
   "execution_count": 33,
   "metadata": {},
   "outputs": [],
   "source": [
    "import yfinance as yf\n",
    "import pandas as pd\n",
    "import numpy as np"
   ]
  },
  {
   "cell_type": "markdown",
   "metadata": {},
   "source": [
    "# Setup portfolio"
   ]
  },
  {
   "cell_type": "code",
   "execution_count": 50,
   "metadata": {},
   "outputs": [],
   "source": [
    "amount_to_invest = 50_000.0\n",
    "assets = [\"PETR3.SA\", \"CMIG3.SA\", \"CPLE6.SA\", \"RANI3.SA\", \"TAEE11.SA\", \"FESA4.SA\", \"UNIP6.SA\"]\n",
    "weights = [32.5183, 18.4078, 12.6776, 11.1030, 10.3605, 9.1889, 5.7439]"
   ]
  },
  {
   "cell_type": "code",
   "execution_count": 51,
   "metadata": {},
   "outputs": [],
   "source": [
    "if sum(weights) != 100.0:\n",
    "    sum(weights)"
   ]
  },
  {
   "cell_type": "code",
   "execution_count": 52,
   "metadata": {},
   "outputs": [],
   "source": [
    "buy_orders = {\n",
    "    asset: (weights / 100) * amount_to_invest\n",
    "    for asset, weights in zip(assets, weights)\n",
    "}"
   ]
  },
  {
   "cell_type": "code",
   "execution_count": 53,
   "metadata": {},
   "outputs": [
    {
     "data": {
      "text/plain": [
       "{'PETR3.SA': 16259.150000000003,\n",
       " 'CMIG3.SA': 9203.900000000001,\n",
       " 'CPLE6.SA': 6338.8,\n",
       " 'RANI3.SA': 5551.5,\n",
       " 'TAEE11.SA': 5180.25,\n",
       " 'FESA4.SA': 4594.45,\n",
       " 'UNIP6.SA': 2871.95}"
      ]
     },
     "execution_count": 53,
     "metadata": {},
     "output_type": "execute_result"
    }
   ],
   "source": [
    "buy_orders"
   ]
  },
  {
   "cell_type": "code",
   "execution_count": 54,
   "metadata": {},
   "outputs": [],
   "source": [
    "if sum(buy_orders.values()) != amount_to_invest:\n",
    "    sum(buy_orders.values())"
   ]
  },
  {
   "cell_type": "code",
   "execution_count": 55,
   "metadata": {},
   "outputs": [],
   "source": [
    "assets = list(buy_orders.keys())"
   ]
  },
  {
   "cell_type": "code",
   "execution_count": 56,
   "metadata": {},
   "outputs": [
    {
     "data": {
      "text/plain": [
       "['PETR3.SA',\n",
       " 'CMIG3.SA',\n",
       " 'CPLE6.SA',\n",
       " 'RANI3.SA',\n",
       " 'TAEE11.SA',\n",
       " 'FESA4.SA',\n",
       " 'UNIP6.SA']"
      ]
     },
     "execution_count": 56,
     "metadata": {},
     "output_type": "execute_result"
    }
   ],
   "source": [
    "assets"
   ]
  },
  {
   "cell_type": "code",
   "execution_count": 57,
   "metadata": {},
   "outputs": [],
   "source": [
    "total_invested = sum(buy_orders.values())"
   ]
  },
  {
   "cell_type": "code",
   "execution_count": 58,
   "metadata": {},
   "outputs": [
    {
     "data": {
      "text/plain": [
       "50000.0"
      ]
     },
     "execution_count": 58,
     "metadata": {},
     "output_type": "execute_result"
    }
   ],
   "source": [
    "total_invested"
   ]
  },
  {
   "cell_type": "markdown",
   "metadata": {},
   "source": [
    "# Import financial assets data"
   ]
  },
  {
   "cell_type": "code",
   "execution_count": 59,
   "metadata": {},
   "outputs": [],
   "source": [
    "start = \"2017-02-01\"\n",
    "\n",
    "assets_history_price = yf.download(assets, start=start, progress=False)[\"Adj Close\"]"
   ]
  },
  {
   "cell_type": "markdown",
   "metadata": {},
   "source": [
    "# Dummy portfolio simulation"
   ]
  },
  {
   "cell_type": "code",
   "execution_count": 60,
   "metadata": {},
   "outputs": [
    {
     "data": {
      "text/plain": [
       "CMIG3.SA      4.455539\n",
       "CPLE6.SA      1.778329\n",
       "FESA4.SA      6.051053\n",
       "PETR3.SA      6.434494\n",
       "RANI3.SA      2.162255\n",
       "TAEE11.SA    11.382806\n",
       "UNIP6.SA      2.045254\n",
       "Name: 2017-02-01 00:00:00, dtype: float64"
      ]
     },
     "execution_count": 60,
     "metadata": {},
     "output_type": "execute_result"
    }
   ],
   "source": [
    "first_line = assets_history_price.iloc[0]\n",
    "first_line"
   ]
  },
  {
   "cell_type": "code",
   "execution_count": 61,
   "metadata": {},
   "outputs": [],
   "source": [
    "buy_orders_df = pd.Series(data = buy_orders, index=assets)"
   ]
  },
  {
   "cell_type": "code",
   "execution_count": 62,
   "metadata": {},
   "outputs": [],
   "source": [
    "number_of_shares = round(buy_orders_df / first_line, 0)"
   ]
  },
  {
   "cell_type": "code",
   "execution_count": 63,
   "metadata": {},
   "outputs": [],
   "source": [
    "net_worth = assets_history_price * number_of_shares"
   ]
  },
  {
   "cell_type": "code",
   "execution_count": 64,
   "metadata": {},
   "outputs": [],
   "source": [
    "net_worth[\"Total net worth\"] = net_worth.sum(axis=1)"
   ]
  },
  {
   "cell_type": "code",
   "execution_count": 65,
   "metadata": {},
   "outputs": [
    {
     "data": {
      "text/html": [
       "<div>\n",
       "<style scoped>\n",
       "    .dataframe tbody tr th:only-of-type {\n",
       "        vertical-align: middle;\n",
       "    }\n",
       "\n",
       "    .dataframe tbody tr th {\n",
       "        vertical-align: top;\n",
       "    }\n",
       "\n",
       "    .dataframe thead th {\n",
       "        text-align: right;\n",
       "    }\n",
       "</style>\n",
       "<table border=\"1\" class=\"dataframe\">\n",
       "  <thead>\n",
       "    <tr style=\"text-align: right;\">\n",
       "      <th></th>\n",
       "      <th>CMIG3.SA</th>\n",
       "      <th>CPLE6.SA</th>\n",
       "      <th>FESA4.SA</th>\n",
       "      <th>PETR3.SA</th>\n",
       "      <th>RANI3.SA</th>\n",
       "      <th>TAEE11.SA</th>\n",
       "      <th>UNIP6.SA</th>\n",
       "      <th>Total net worth</th>\n",
       "    </tr>\n",
       "    <tr>\n",
       "      <th>Date</th>\n",
       "      <th></th>\n",
       "      <th></th>\n",
       "      <th></th>\n",
       "      <th></th>\n",
       "      <th></th>\n",
       "      <th></th>\n",
       "      <th></th>\n",
       "      <th></th>\n",
       "    </tr>\n",
       "  </thead>\n",
       "  <tbody>\n",
       "    <tr>\n",
       "      <th>2017-02-01</th>\n",
       "      <td>9205.144042</td>\n",
       "      <td>6337.965883</td>\n",
       "      <td>4592.748901</td>\n",
       "      <td>16259.967590</td>\n",
       "      <td>5550.509322</td>\n",
       "      <td>5179.176650</td>\n",
       "      <td>2871.536605</td>\n",
       "      <td>49997.048993</td>\n",
       "    </tr>\n",
       "    <tr>\n",
       "      <th>2017-02-02</th>\n",
       "      <td>9615.273934</td>\n",
       "      <td>6465.322914</td>\n",
       "      <td>4614.160777</td>\n",
       "      <td>16038.055955</td>\n",
       "      <td>5550.509322</td>\n",
       "      <td>5222.037277</td>\n",
       "      <td>2855.359305</td>\n",
       "      <td>50360.719485</td>\n",
       "    </tr>\n",
       "    <tr>\n",
       "      <th>2017-02-03</th>\n",
       "      <td>9906.921354</td>\n",
       "      <td>6517.062172</td>\n",
       "      <td>4603.454839</td>\n",
       "      <td>16481.878019</td>\n",
       "      <td>5550.509322</td>\n",
       "      <td>5231.563163</td>\n",
       "      <td>2851.314646</td>\n",
       "      <td>51142.703515</td>\n",
       "    </tr>\n",
       "    <tr>\n",
       "      <th>2017-02-06</th>\n",
       "      <td>9788.441837</td>\n",
       "      <td>6415.574983</td>\n",
       "      <td>4571.338111</td>\n",
       "      <td>16108.668256</td>\n",
       "      <td>5530.758809</td>\n",
       "      <td>5164.888473</td>\n",
       "      <td>2891.758229</td>\n",
       "      <td>50471.428698</td>\n",
       "    </tr>\n",
       "    <tr>\n",
       "      <th>2017-02-07</th>\n",
       "      <td>9742.872944</td>\n",
       "      <td>6495.171587</td>\n",
       "      <td>4603.454839</td>\n",
       "      <td>15906.927777</td>\n",
       "      <td>5550.509322</td>\n",
       "      <td>5131.551127</td>\n",
       "      <td>2871.536605</td>\n",
       "      <td>50302.024201</td>\n",
       "    </tr>\n",
       "    <tr>\n",
       "      <th>...</th>\n",
       "      <td>...</td>\n",
       "      <td>...</td>\n",
       "      <td>...</td>\n",
       "      <td>...</td>\n",
       "      <td>...</td>\n",
       "      <td>...</td>\n",
       "      <td>...</td>\n",
       "      <td>...</td>\n",
       "    </tr>\n",
       "    <tr>\n",
       "      <th>2023-08-04</th>\n",
       "      <td>39171.358109</td>\n",
       "      <td>30579.119728</td>\n",
       "      <td>38784.898842</td>\n",
       "      <td>83087.762699</td>\n",
       "      <td>27004.221810</td>\n",
       "      <td>16191.813316</td>\n",
       "      <td>114720.838715</td>\n",
       "      <td>349540.013219</td>\n",
       "    </tr>\n",
       "    <tr>\n",
       "      <th>2023-08-07</th>\n",
       "      <td>38572.220158</td>\n",
       "      <td>30757.320408</td>\n",
       "      <td>37570.500000</td>\n",
       "      <td>83643.696144</td>\n",
       "      <td>28085.397628</td>\n",
       "      <td>16125.270538</td>\n",
       "      <td>113007.957001</td>\n",
       "      <td>347762.361876</td>\n",
       "    </tr>\n",
       "    <tr>\n",
       "      <th>2023-08-08</th>\n",
       "      <td>39150.701576</td>\n",
       "      <td>30792.961224</td>\n",
       "      <td>36963.300579</td>\n",
       "      <td>83593.164627</td>\n",
       "      <td>27312.880881</td>\n",
       "      <td>16066.050625</td>\n",
       "      <td>112320.000000</td>\n",
       "      <td>346199.059512</td>\n",
       "    </tr>\n",
       "    <tr>\n",
       "      <th>2023-08-09</th>\n",
       "      <td>40183.701576</td>\n",
       "      <td>30935.521088</td>\n",
       "      <td>36750.778610</td>\n",
       "      <td>84553.417686</td>\n",
       "      <td>27595.250000</td>\n",
       "      <td>15783.949375</td>\n",
       "      <td>112221.720428</td>\n",
       "      <td>348024.338764</td>\n",
       "    </tr>\n",
       "    <tr>\n",
       "      <th>2023-08-11</th>\n",
       "      <td>40948.119370</td>\n",
       "      <td>32325.478912</td>\n",
       "      <td>34299.208958</td>\n",
       "      <td>84578.693085</td>\n",
       "      <td>27466.899510</td>\n",
       "      <td>15847.650833</td>\n",
       "      <td>108725.763428</td>\n",
       "      <td>344191.814095</td>\n",
       "    </tr>\n",
       "  </tbody>\n",
       "</table>\n",
       "<p>1625 rows × 8 columns</p>\n",
       "</div>"
      ],
      "text/plain": [
       "                CMIG3.SA      CPLE6.SA      FESA4.SA      PETR3.SA  \\\n",
       "Date                                                                 \n",
       "2017-02-01   9205.144042   6337.965883   4592.748901  16259.967590   \n",
       "2017-02-02   9615.273934   6465.322914   4614.160777  16038.055955   \n",
       "2017-02-03   9906.921354   6517.062172   4603.454839  16481.878019   \n",
       "2017-02-06   9788.441837   6415.574983   4571.338111  16108.668256   \n",
       "2017-02-07   9742.872944   6495.171587   4603.454839  15906.927777   \n",
       "...                  ...           ...           ...           ...   \n",
       "2023-08-04  39171.358109  30579.119728  38784.898842  83087.762699   \n",
       "2023-08-07  38572.220158  30757.320408  37570.500000  83643.696144   \n",
       "2023-08-08  39150.701576  30792.961224  36963.300579  83593.164627   \n",
       "2023-08-09  40183.701576  30935.521088  36750.778610  84553.417686   \n",
       "2023-08-11  40948.119370  32325.478912  34299.208958  84578.693085   \n",
       "\n",
       "                RANI3.SA     TAEE11.SA       UNIP6.SA  Total net worth  \n",
       "Date                                                                    \n",
       "2017-02-01   5550.509322   5179.176650    2871.536605     49997.048993  \n",
       "2017-02-02   5550.509322   5222.037277    2855.359305     50360.719485  \n",
       "2017-02-03   5550.509322   5231.563163    2851.314646     51142.703515  \n",
       "2017-02-06   5530.758809   5164.888473    2891.758229     50471.428698  \n",
       "2017-02-07   5550.509322   5131.551127    2871.536605     50302.024201  \n",
       "...                  ...           ...            ...              ...  \n",
       "2023-08-04  27004.221810  16191.813316  114720.838715    349540.013219  \n",
       "2023-08-07  28085.397628  16125.270538  113007.957001    347762.361876  \n",
       "2023-08-08  27312.880881  16066.050625  112320.000000    346199.059512  \n",
       "2023-08-09  27595.250000  15783.949375  112221.720428    348024.338764  \n",
       "2023-08-11  27466.899510  15847.650833  108725.763428    344191.814095  \n",
       "\n",
       "[1625 rows x 8 columns]"
      ]
     },
     "execution_count": 65,
     "metadata": {},
     "output_type": "execute_result"
    }
   ],
   "source": [
    "net_worth"
   ]
  },
  {
   "cell_type": "markdown",
   "metadata": {},
   "source": [
    "# Comparison with IBOV"
   ]
  },
  {
   "cell_type": "code",
   "execution_count": 66,
   "metadata": {},
   "outputs": [],
   "source": [
    "ibov = yf.download(\"^BVSP\", start=start, progress=False)[\"Adj Close\"]"
   ]
  },
  {
   "cell_type": "code",
   "execution_count": 67,
   "metadata": {},
   "outputs": [],
   "source": [
    "ibov_df = pd.DataFrame(ibov)"
   ]
  },
  {
   "cell_type": "code",
   "execution_count": 68,
   "metadata": {},
   "outputs": [],
   "source": [
    "ibov_df.rename(columns={\"Adj Close\": \"IBOV\"}, inplace=True)"
   ]
  },
  {
   "cell_type": "code",
   "execution_count": 69,
   "metadata": {},
   "outputs": [],
   "source": [
    "comparison = pd.merge(ibov_df, net_worth, how = \"inner\", on = \"Date\")"
   ]
  },
  {
   "cell_type": "code",
   "execution_count": 70,
   "metadata": {},
   "outputs": [
    {
     "data": {
      "text/html": [
       "<div>\n",
       "<style scoped>\n",
       "    .dataframe tbody tr th:only-of-type {\n",
       "        vertical-align: middle;\n",
       "    }\n",
       "\n",
       "    .dataframe tbody tr th {\n",
       "        vertical-align: top;\n",
       "    }\n",
       "\n",
       "    .dataframe thead th {\n",
       "        text-align: right;\n",
       "    }\n",
       "</style>\n",
       "<table border=\"1\" class=\"dataframe\">\n",
       "  <thead>\n",
       "    <tr style=\"text-align: right;\">\n",
       "      <th></th>\n",
       "      <th>IBOV</th>\n",
       "      <th>CMIG3.SA</th>\n",
       "      <th>CPLE6.SA</th>\n",
       "      <th>FESA4.SA</th>\n",
       "      <th>PETR3.SA</th>\n",
       "      <th>RANI3.SA</th>\n",
       "      <th>TAEE11.SA</th>\n",
       "      <th>UNIP6.SA</th>\n",
       "      <th>Total net worth</th>\n",
       "    </tr>\n",
       "    <tr>\n",
       "      <th>Date</th>\n",
       "      <th></th>\n",
       "      <th></th>\n",
       "      <th></th>\n",
       "      <th></th>\n",
       "      <th></th>\n",
       "      <th></th>\n",
       "      <th></th>\n",
       "      <th></th>\n",
       "      <th></th>\n",
       "    </tr>\n",
       "  </thead>\n",
       "  <tbody>\n",
       "    <tr>\n",
       "      <th>2017-02-01</th>\n",
       "      <td>64836.000000</td>\n",
       "      <td>9205.144042</td>\n",
       "      <td>6337.965883</td>\n",
       "      <td>4592.748901</td>\n",
       "      <td>16259.967590</td>\n",
       "      <td>5550.509322</td>\n",
       "      <td>5179.176650</td>\n",
       "      <td>2871.536605</td>\n",
       "      <td>49997.048993</td>\n",
       "    </tr>\n",
       "    <tr>\n",
       "      <th>2017-02-02</th>\n",
       "      <td>64578.000000</td>\n",
       "      <td>9615.273934</td>\n",
       "      <td>6465.322914</td>\n",
       "      <td>4614.160777</td>\n",
       "      <td>16038.055955</td>\n",
       "      <td>5550.509322</td>\n",
       "      <td>5222.037277</td>\n",
       "      <td>2855.359305</td>\n",
       "      <td>50360.719485</td>\n",
       "    </tr>\n",
       "    <tr>\n",
       "      <th>2017-02-03</th>\n",
       "      <td>64954.000000</td>\n",
       "      <td>9906.921354</td>\n",
       "      <td>6517.062172</td>\n",
       "      <td>4603.454839</td>\n",
       "      <td>16481.878019</td>\n",
       "      <td>5550.509322</td>\n",
       "      <td>5231.563163</td>\n",
       "      <td>2851.314646</td>\n",
       "      <td>51142.703515</td>\n",
       "    </tr>\n",
       "    <tr>\n",
       "      <th>2017-02-06</th>\n",
       "      <td>63993.000000</td>\n",
       "      <td>9788.441837</td>\n",
       "      <td>6415.574983</td>\n",
       "      <td>4571.338111</td>\n",
       "      <td>16108.668256</td>\n",
       "      <td>5530.758809</td>\n",
       "      <td>5164.888473</td>\n",
       "      <td>2891.758229</td>\n",
       "      <td>50471.428698</td>\n",
       "    </tr>\n",
       "    <tr>\n",
       "      <th>2017-02-07</th>\n",
       "      <td>64199.000000</td>\n",
       "      <td>9742.872944</td>\n",
       "      <td>6495.171587</td>\n",
       "      <td>4603.454839</td>\n",
       "      <td>15906.927777</td>\n",
       "      <td>5550.509322</td>\n",
       "      <td>5131.551127</td>\n",
       "      <td>2871.536605</td>\n",
       "      <td>50302.024201</td>\n",
       "    </tr>\n",
       "    <tr>\n",
       "      <th>...</th>\n",
       "      <td>...</td>\n",
       "      <td>...</td>\n",
       "      <td>...</td>\n",
       "      <td>...</td>\n",
       "      <td>...</td>\n",
       "      <td>...</td>\n",
       "      <td>...</td>\n",
       "      <td>...</td>\n",
       "      <td>...</td>\n",
       "    </tr>\n",
       "    <tr>\n",
       "      <th>2023-08-04</th>\n",
       "      <td>119508.000000</td>\n",
       "      <td>39171.358109</td>\n",
       "      <td>30579.119728</td>\n",
       "      <td>38784.898842</td>\n",
       "      <td>83087.762699</td>\n",
       "      <td>27004.221810</td>\n",
       "      <td>16191.813316</td>\n",
       "      <td>114720.838715</td>\n",
       "      <td>349540.013219</td>\n",
       "    </tr>\n",
       "    <tr>\n",
       "      <th>2023-08-07</th>\n",
       "      <td>119380.000000</td>\n",
       "      <td>38572.220158</td>\n",
       "      <td>30757.320408</td>\n",
       "      <td>37570.500000</td>\n",
       "      <td>83643.696144</td>\n",
       "      <td>28085.397628</td>\n",
       "      <td>16125.270538</td>\n",
       "      <td>113007.957001</td>\n",
       "      <td>347762.361876</td>\n",
       "    </tr>\n",
       "    <tr>\n",
       "      <th>2023-08-08</th>\n",
       "      <td>119090.000000</td>\n",
       "      <td>39150.701576</td>\n",
       "      <td>30792.961224</td>\n",
       "      <td>36963.300579</td>\n",
       "      <td>83593.164627</td>\n",
       "      <td>27312.880881</td>\n",
       "      <td>16066.050625</td>\n",
       "      <td>112320.000000</td>\n",
       "      <td>346199.059512</td>\n",
       "    </tr>\n",
       "    <tr>\n",
       "      <th>2023-08-09</th>\n",
       "      <td>118409.000000</td>\n",
       "      <td>40183.701576</td>\n",
       "      <td>30935.521088</td>\n",
       "      <td>36750.778610</td>\n",
       "      <td>84553.417686</td>\n",
       "      <td>27595.250000</td>\n",
       "      <td>15783.949375</td>\n",
       "      <td>112221.720428</td>\n",
       "      <td>348024.338764</td>\n",
       "    </tr>\n",
       "    <tr>\n",
       "      <th>2023-08-11</th>\n",
       "      <td>118065.140625</td>\n",
       "      <td>40948.119370</td>\n",
       "      <td>32325.478912</td>\n",
       "      <td>34299.208958</td>\n",
       "      <td>84578.693085</td>\n",
       "      <td>27466.899510</td>\n",
       "      <td>15847.650833</td>\n",
       "      <td>108725.763428</td>\n",
       "      <td>344191.814095</td>\n",
       "    </tr>\n",
       "  </tbody>\n",
       "</table>\n",
       "<p>1617 rows × 9 columns</p>\n",
       "</div>"
      ],
      "text/plain": [
       "                     IBOV      CMIG3.SA      CPLE6.SA      FESA4.SA  \\\n",
       "Date                                                                  \n",
       "2017-02-01   64836.000000   9205.144042   6337.965883   4592.748901   \n",
       "2017-02-02   64578.000000   9615.273934   6465.322914   4614.160777   \n",
       "2017-02-03   64954.000000   9906.921354   6517.062172   4603.454839   \n",
       "2017-02-06   63993.000000   9788.441837   6415.574983   4571.338111   \n",
       "2017-02-07   64199.000000   9742.872944   6495.171587   4603.454839   \n",
       "...                   ...           ...           ...           ...   \n",
       "2023-08-04  119508.000000  39171.358109  30579.119728  38784.898842   \n",
       "2023-08-07  119380.000000  38572.220158  30757.320408  37570.500000   \n",
       "2023-08-08  119090.000000  39150.701576  30792.961224  36963.300579   \n",
       "2023-08-09  118409.000000  40183.701576  30935.521088  36750.778610   \n",
       "2023-08-11  118065.140625  40948.119370  32325.478912  34299.208958   \n",
       "\n",
       "                PETR3.SA      RANI3.SA     TAEE11.SA       UNIP6.SA  \\\n",
       "Date                                                                  \n",
       "2017-02-01  16259.967590   5550.509322   5179.176650    2871.536605   \n",
       "2017-02-02  16038.055955   5550.509322   5222.037277    2855.359305   \n",
       "2017-02-03  16481.878019   5550.509322   5231.563163    2851.314646   \n",
       "2017-02-06  16108.668256   5530.758809   5164.888473    2891.758229   \n",
       "2017-02-07  15906.927777   5550.509322   5131.551127    2871.536605   \n",
       "...                  ...           ...           ...            ...   \n",
       "2023-08-04  83087.762699  27004.221810  16191.813316  114720.838715   \n",
       "2023-08-07  83643.696144  28085.397628  16125.270538  113007.957001   \n",
       "2023-08-08  83593.164627  27312.880881  16066.050625  112320.000000   \n",
       "2023-08-09  84553.417686  27595.250000  15783.949375  112221.720428   \n",
       "2023-08-11  84578.693085  27466.899510  15847.650833  108725.763428   \n",
       "\n",
       "            Total net worth  \n",
       "Date                         \n",
       "2017-02-01     49997.048993  \n",
       "2017-02-02     50360.719485  \n",
       "2017-02-03     51142.703515  \n",
       "2017-02-06     50471.428698  \n",
       "2017-02-07     50302.024201  \n",
       "...                     ...  \n",
       "2023-08-04    349540.013219  \n",
       "2023-08-07    347762.361876  \n",
       "2023-08-08    346199.059512  \n",
       "2023-08-09    348024.338764  \n",
       "2023-08-11    344191.814095  \n",
       "\n",
       "[1617 rows x 9 columns]"
      ]
     },
     "execution_count": 70,
     "metadata": {},
     "output_type": "execute_result"
    }
   ],
   "source": [
    "comparison"
   ]
  },
  {
   "cell_type": "markdown",
   "metadata": {},
   "source": [
    "### Data normalization (data scaling)"
   ]
  },
  {
   "cell_type": "code",
   "execution_count": 71,
   "metadata": {},
   "outputs": [],
   "source": [
    "comparison = comparison.dropna()\n",
    "comparison_scaling = comparison / comparison.iloc[0]"
   ]
  },
  {
   "cell_type": "code",
   "execution_count": 72,
   "metadata": {},
   "outputs": [
    {
     "data": {
      "text/html": [
       "<div>\n",
       "<style scoped>\n",
       "    .dataframe tbody tr th:only-of-type {\n",
       "        vertical-align: middle;\n",
       "    }\n",
       "\n",
       "    .dataframe tbody tr th {\n",
       "        vertical-align: top;\n",
       "    }\n",
       "\n",
       "    .dataframe thead th {\n",
       "        text-align: right;\n",
       "    }\n",
       "</style>\n",
       "<table border=\"1\" class=\"dataframe\">\n",
       "  <thead>\n",
       "    <tr style=\"text-align: right;\">\n",
       "      <th></th>\n",
       "      <th>IBOV</th>\n",
       "      <th>CMIG3.SA</th>\n",
       "      <th>CPLE6.SA</th>\n",
       "      <th>FESA4.SA</th>\n",
       "      <th>PETR3.SA</th>\n",
       "      <th>RANI3.SA</th>\n",
       "      <th>TAEE11.SA</th>\n",
       "      <th>UNIP6.SA</th>\n",
       "      <th>Total net worth</th>\n",
       "    </tr>\n",
       "    <tr>\n",
       "      <th>Date</th>\n",
       "      <th></th>\n",
       "      <th></th>\n",
       "      <th></th>\n",
       "      <th></th>\n",
       "      <th></th>\n",
       "      <th></th>\n",
       "      <th></th>\n",
       "      <th></th>\n",
       "      <th></th>\n",
       "    </tr>\n",
       "  </thead>\n",
       "  <tbody>\n",
       "    <tr>\n",
       "      <th>2017-02-01</th>\n",
       "      <td>1.000000</td>\n",
       "      <td>1.000000</td>\n",
       "      <td>1.000000</td>\n",
       "      <td>1.000000</td>\n",
       "      <td>1.000000</td>\n",
       "      <td>1.000000</td>\n",
       "      <td>1.000000</td>\n",
       "      <td>1.000000</td>\n",
       "      <td>1.000000</td>\n",
       "    </tr>\n",
       "    <tr>\n",
       "      <th>2017-02-02</th>\n",
       "      <td>0.996021</td>\n",
       "      <td>1.044554</td>\n",
       "      <td>1.020094</td>\n",
       "      <td>1.004662</td>\n",
       "      <td>0.986352</td>\n",
       "      <td>1.000000</td>\n",
       "      <td>1.008276</td>\n",
       "      <td>0.994366</td>\n",
       "      <td>1.007274</td>\n",
       "    </tr>\n",
       "    <tr>\n",
       "      <th>2017-02-03</th>\n",
       "      <td>1.001820</td>\n",
       "      <td>1.076238</td>\n",
       "      <td>1.028258</td>\n",
       "      <td>1.002331</td>\n",
       "      <td>1.013648</td>\n",
       "      <td>1.000000</td>\n",
       "      <td>1.010115</td>\n",
       "      <td>0.992958</td>\n",
       "      <td>1.022914</td>\n",
       "    </tr>\n",
       "    <tr>\n",
       "      <th>2017-02-06</th>\n",
       "      <td>0.986998</td>\n",
       "      <td>1.063367</td>\n",
       "      <td>1.012245</td>\n",
       "      <td>0.995338</td>\n",
       "      <td>0.990695</td>\n",
       "      <td>0.996442</td>\n",
       "      <td>0.997241</td>\n",
       "      <td>1.007042</td>\n",
       "      <td>1.009488</td>\n",
       "    </tr>\n",
       "    <tr>\n",
       "      <th>2017-02-07</th>\n",
       "      <td>0.990175</td>\n",
       "      <td>1.058416</td>\n",
       "      <td>1.024804</td>\n",
       "      <td>1.002331</td>\n",
       "      <td>0.978288</td>\n",
       "      <td>1.000000</td>\n",
       "      <td>0.990804</td>\n",
       "      <td>1.000000</td>\n",
       "      <td>1.006100</td>\n",
       "    </tr>\n",
       "    <tr>\n",
       "      <th>...</th>\n",
       "      <td>...</td>\n",
       "      <td>...</td>\n",
       "      <td>...</td>\n",
       "      <td>...</td>\n",
       "      <td>...</td>\n",
       "      <td>...</td>\n",
       "      <td>...</td>\n",
       "      <td>...</td>\n",
       "      <td>...</td>\n",
       "    </tr>\n",
       "    <tr>\n",
       "      <th>2023-08-04</th>\n",
       "      <td>1.843235</td>\n",
       "      <td>4.255377</td>\n",
       "      <td>4.824753</td>\n",
       "      <td>8.444812</td>\n",
       "      <td>5.109959</td>\n",
       "      <td>4.865179</td>\n",
       "      <td>3.126330</td>\n",
       "      <td>39.951028</td>\n",
       "      <td>6.991213</td>\n",
       "    </tr>\n",
       "    <tr>\n",
       "      <th>2023-08-07</th>\n",
       "      <td>1.841261</td>\n",
       "      <td>4.190290</td>\n",
       "      <td>4.852869</td>\n",
       "      <td>8.180395</td>\n",
       "      <td>5.144149</td>\n",
       "      <td>5.059968</td>\n",
       "      <td>3.113481</td>\n",
       "      <td>39.354524</td>\n",
       "      <td>6.955658</td>\n",
       "    </tr>\n",
       "    <tr>\n",
       "      <th>2023-08-08</th>\n",
       "      <td>1.836788</td>\n",
       "      <td>4.253133</td>\n",
       "      <td>4.858493</td>\n",
       "      <td>8.048187</td>\n",
       "      <td>5.141041</td>\n",
       "      <td>4.920788</td>\n",
       "      <td>3.102047</td>\n",
       "      <td>39.114946</td>\n",
       "      <td>6.924390</td>\n",
       "    </tr>\n",
       "    <tr>\n",
       "      <th>2023-08-09</th>\n",
       "      <td>1.826285</td>\n",
       "      <td>4.365353</td>\n",
       "      <td>4.880986</td>\n",
       "      <td>8.001913</td>\n",
       "      <td>5.200098</td>\n",
       "      <td>4.971661</td>\n",
       "      <td>3.047579</td>\n",
       "      <td>39.080721</td>\n",
       "      <td>6.960898</td>\n",
       "    </tr>\n",
       "    <tr>\n",
       "      <th>2023-08-11</th>\n",
       "      <td>1.820981</td>\n",
       "      <td>4.448395</td>\n",
       "      <td>5.100292</td>\n",
       "      <td>7.468122</td>\n",
       "      <td>5.201652</td>\n",
       "      <td>4.948537</td>\n",
       "      <td>3.059878</td>\n",
       "      <td>37.863269</td>\n",
       "      <td>6.884243</td>\n",
       "    </tr>\n",
       "  </tbody>\n",
       "</table>\n",
       "<p>1616 rows × 9 columns</p>\n",
       "</div>"
      ],
      "text/plain": [
       "                IBOV  CMIG3.SA  CPLE6.SA  FESA4.SA  PETR3.SA  RANI3.SA  \\\n",
       "Date                                                                     \n",
       "2017-02-01  1.000000  1.000000  1.000000  1.000000  1.000000  1.000000   \n",
       "2017-02-02  0.996021  1.044554  1.020094  1.004662  0.986352  1.000000   \n",
       "2017-02-03  1.001820  1.076238  1.028258  1.002331  1.013648  1.000000   \n",
       "2017-02-06  0.986998  1.063367  1.012245  0.995338  0.990695  0.996442   \n",
       "2017-02-07  0.990175  1.058416  1.024804  1.002331  0.978288  1.000000   \n",
       "...              ...       ...       ...       ...       ...       ...   \n",
       "2023-08-04  1.843235  4.255377  4.824753  8.444812  5.109959  4.865179   \n",
       "2023-08-07  1.841261  4.190290  4.852869  8.180395  5.144149  5.059968   \n",
       "2023-08-08  1.836788  4.253133  4.858493  8.048187  5.141041  4.920788   \n",
       "2023-08-09  1.826285  4.365353  4.880986  8.001913  5.200098  4.971661   \n",
       "2023-08-11  1.820981  4.448395  5.100292  7.468122  5.201652  4.948537   \n",
       "\n",
       "            TAEE11.SA   UNIP6.SA  Total net worth  \n",
       "Date                                               \n",
       "2017-02-01   1.000000   1.000000         1.000000  \n",
       "2017-02-02   1.008276   0.994366         1.007274  \n",
       "2017-02-03   1.010115   0.992958         1.022914  \n",
       "2017-02-06   0.997241   1.007042         1.009488  \n",
       "2017-02-07   0.990804   1.000000         1.006100  \n",
       "...               ...        ...              ...  \n",
       "2023-08-04   3.126330  39.951028         6.991213  \n",
       "2023-08-07   3.113481  39.354524         6.955658  \n",
       "2023-08-08   3.102047  39.114946         6.924390  \n",
       "2023-08-09   3.047579  39.080721         6.960898  \n",
       "2023-08-11   3.059878  37.863269         6.884243  \n",
       "\n",
       "[1616 rows x 9 columns]"
      ]
     },
     "execution_count": 72,
     "metadata": {},
     "output_type": "execute_result"
    }
   ],
   "source": [
    "comparison_scaling"
   ]
  },
  {
   "cell_type": "code",
   "execution_count": 73,
   "metadata": {},
   "outputs": [
    {
     "data": {
      "image/png": "[encoded data removed]",
      "text/plain": [
       "<Figure size 640x480 with 1 Axes>"
      ]
     },
     "metadata": {},
     "output_type": "display_data"
    }
   ],
   "source": [
    "comparison_scaling.plot();"
   ]
  },
  {
   "cell_type": "code",
   "execution_count": 74,
   "metadata": {},
   "outputs": [
    {
     "data": {
      "image/png": "[encoded data removed]",
      "text/plain": [
       "<Figure size 640x480 with 1 Axes>"
      ]
     },
     "metadata": {},
     "output_type": "display_data"
    }
   ],
   "source": [
    "comparison_scaling[[\"IBOV\", \"Total net worth\"]].plot();"
   ]
  }
 ],
 "metadata": {
  "kernelspec": {
   "display_name": "venv",
   "language": "python",
   "name": "python3"
  },
  "language_info": {
   "codemirror_mode": {
    "name": "ipython",
    "version": 3
   },
   "file_extension": ".py",
   "mimetype": "text/x-python",
   "name": "python",
   "nbconvert_exporter": "python",
   "pygments_lexer": "ipython3",
   "version": "3.10.11"
  },
  "orig_nbformat": 4
 },
 "nbformat": 4,
 "nbformat_minor": 2
}
